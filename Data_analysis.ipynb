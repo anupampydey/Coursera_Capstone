{
 "metadata": {
  "language_info": {
   "codemirror_mode": {
    "name": "ipython",
    "version": 3
   },
   "file_extension": ".py",
   "mimetype": "text/x-python",
   "name": "python",
   "nbconvert_exporter": "python",
   "pygments_lexer": "ipython3",
   "version": "3.8.3-final"
  },
  "orig_nbformat": 2,
  "kernelspec": {
   "name": "python_defaultSpec_1600523786739",
   "display_name": "Python 3.8.3 64-bit"
  }
 },
 "nbformat": 4,
 "nbformat_minor": 2,
 "cells": [
  {
   "source": [
    "Our aim is to prepare a model that will predict the severity of car accidents in the city of Seattle for a set of conditions. In other words, given the weather and the road conditions what is the possibility of a commuter getting into a car accident and how severe it would be. \n",
    "So lets analyse our data which is available at the IBM cloud storage -<br>\n",
    "cloudpath = \"https://s3.us.cloud-object-storage.appdomain.cloud/cf-courses-data/CognitiveClass/DP0701EN/version-2/Data-Collisions.csv\" <br>\n",
    "The source of this dataset is SDOT Traffic collisions report provided by Seattle Police Department. This dataset includes all type of collisions which happened in SDOT Traffic Division from 2004 to present. The dataset consists of 37 features (or columns) and 194763 entries (or rows). To analyse the data we need to carry out Data Wrangling or cleaning. \n"
   ],
   "cell_type": "markdown",
   "metadata": {}
  },
  {
   "cell_type": "code",
   "execution_count": 1,
   "metadata": {
    "tags": []
   },
   "outputs": [
    {
     "output_type": "stream",
     "name": "stdout",
     "text": "Pandas version = 1.0.1\nNumpy version = 1.19.0\n"
    }
   ],
   "source": [
    "# import the necessary libraries\n",
    "import pandas as pd \n",
    "import numpy as np \n",
    "print('Pandas version =', pd.__version__)\n",
    "print('Numpy version =', np.__version__)"
   ]
  },
  {
   "cell_type": "code",
   "execution_count": 2,
   "metadata": {
    "tags": []
   },
   "outputs": [
    {
     "output_type": "stream",
     "name": "stdout",
     "text": "csv file successfully read in dataframe\n"
    },
    {
     "output_type": "execute_result",
     "data": {
      "text/plain": "   SEVERITYCODE           X          Y  OBJECTID  INCKEY  COLDETKEY REPORTNO  \\\n0             2 -122.323148  47.703140         1    1307       1307  3502005   \n1             1 -122.347294  47.647172         2   52200      52200  2607959   \n2             1 -122.334540  47.607871         3   26700      26700  1482393   \n3             1 -122.334803  47.604803         4    1144       1144  3503937   \n4             2 -122.306426  47.545739         5   17700      17700  1807429   \n\n    STATUS      ADDRTYPE   INTKEY  ... ROADCOND                LIGHTCOND  \\\n0  Matched  Intersection  37475.0  ...      Wet                 Daylight   \n1  Matched         Block      NaN  ...      Wet  Dark - Street Lights On   \n2  Matched         Block      NaN  ...      Dry                 Daylight   \n3  Matched         Block      NaN  ...      Dry                 Daylight   \n4  Matched  Intersection  34387.0  ...      Wet                 Daylight   \n\n  PEDROWNOTGRNT  SDOTCOLNUM SPEEDING ST_COLCODE  \\\n0           NaN         NaN      NaN         10   \n1           NaN   6354039.0      NaN         11   \n2           NaN   4323031.0      NaN         32   \n3           NaN         NaN      NaN         23   \n4           NaN   4028032.0      NaN         10   \n\n                                          ST_COLDESC  SEGLANEKEY  \\\n0                                  Entering at angle           0   \n1  From same direction - both going straight - bo...           0   \n2                             One parked--one moving           0   \n3                   From same direction - all others           0   \n4                                  Entering at angle           0   \n\n   CROSSWALKKEY  HITPARKEDCAR  \n0             0             N  \n1             0             N  \n2             0             N  \n3             0             N  \n4             0             N  \n\n[5 rows x 38 columns]",
      "text/html": "<div>\n<style scoped>\n    .dataframe tbody tr th:only-of-type {\n        vertical-align: middle;\n    }\n\n    .dataframe tbody tr th {\n        vertical-align: top;\n    }\n\n    .dataframe thead th {\n        text-align: right;\n    }\n</style>\n<table border=\"1\" class=\"dataframe\">\n  <thead>\n    <tr style=\"text-align: right;\">\n      <th></th>\n      <th>SEVERITYCODE</th>\n      <th>X</th>\n      <th>Y</th>\n      <th>OBJECTID</th>\n      <th>INCKEY</th>\n      <th>COLDETKEY</th>\n      <th>REPORTNO</th>\n      <th>STATUS</th>\n      <th>ADDRTYPE</th>\n      <th>INTKEY</th>\n      <th>...</th>\n      <th>ROADCOND</th>\n      <th>LIGHTCOND</th>\n      <th>PEDROWNOTGRNT</th>\n      <th>SDOTCOLNUM</th>\n      <th>SPEEDING</th>\n      <th>ST_COLCODE</th>\n      <th>ST_COLDESC</th>\n      <th>SEGLANEKEY</th>\n      <th>CROSSWALKKEY</th>\n      <th>HITPARKEDCAR</th>\n    </tr>\n  </thead>\n  <tbody>\n    <tr>\n      <th>0</th>\n      <td>2</td>\n      <td>-122.323148</td>\n      <td>47.703140</td>\n      <td>1</td>\n      <td>1307</td>\n      <td>1307</td>\n      <td>3502005</td>\n      <td>Matched</td>\n      <td>Intersection</td>\n      <td>37475.0</td>\n      <td>...</td>\n      <td>Wet</td>\n      <td>Daylight</td>\n      <td>NaN</td>\n      <td>NaN</td>\n      <td>NaN</td>\n      <td>10</td>\n      <td>Entering at angle</td>\n      <td>0</td>\n      <td>0</td>\n      <td>N</td>\n    </tr>\n    <tr>\n      <th>1</th>\n      <td>1</td>\n      <td>-122.347294</td>\n      <td>47.647172</td>\n      <td>2</td>\n      <td>52200</td>\n      <td>52200</td>\n      <td>2607959</td>\n      <td>Matched</td>\n      <td>Block</td>\n      <td>NaN</td>\n      <td>...</td>\n      <td>Wet</td>\n      <td>Dark - Street Lights On</td>\n      <td>NaN</td>\n      <td>6354039.0</td>\n      <td>NaN</td>\n      <td>11</td>\n      <td>From same direction - both going straight - bo...</td>\n      <td>0</td>\n      <td>0</td>\n      <td>N</td>\n    </tr>\n    <tr>\n      <th>2</th>\n      <td>1</td>\n      <td>-122.334540</td>\n      <td>47.607871</td>\n      <td>3</td>\n      <td>26700</td>\n      <td>26700</td>\n      <td>1482393</td>\n      <td>Matched</td>\n      <td>Block</td>\n      <td>NaN</td>\n      <td>...</td>\n      <td>Dry</td>\n      <td>Daylight</td>\n      <td>NaN</td>\n      <td>4323031.0</td>\n      <td>NaN</td>\n      <td>32</td>\n      <td>One parked--one moving</td>\n      <td>0</td>\n      <td>0</td>\n      <td>N</td>\n    </tr>\n    <tr>\n      <th>3</th>\n      <td>1</td>\n      <td>-122.334803</td>\n      <td>47.604803</td>\n      <td>4</td>\n      <td>1144</td>\n      <td>1144</td>\n      <td>3503937</td>\n      <td>Matched</td>\n      <td>Block</td>\n      <td>NaN</td>\n      <td>...</td>\n      <td>Dry</td>\n      <td>Daylight</td>\n      <td>NaN</td>\n      <td>NaN</td>\n      <td>NaN</td>\n      <td>23</td>\n      <td>From same direction - all others</td>\n      <td>0</td>\n      <td>0</td>\n      <td>N</td>\n    </tr>\n    <tr>\n      <th>4</th>\n      <td>2</td>\n      <td>-122.306426</td>\n      <td>47.545739</td>\n      <td>5</td>\n      <td>17700</td>\n      <td>17700</td>\n      <td>1807429</td>\n      <td>Matched</td>\n      <td>Intersection</td>\n      <td>34387.0</td>\n      <td>...</td>\n      <td>Wet</td>\n      <td>Daylight</td>\n      <td>NaN</td>\n      <td>4028032.0</td>\n      <td>NaN</td>\n      <td>10</td>\n      <td>Entering at angle</td>\n      <td>0</td>\n      <td>0</td>\n      <td>N</td>\n    </tr>\n  </tbody>\n</table>\n<p>5 rows × 38 columns</p>\n</div>"
     },
     "metadata": {},
     "execution_count": 2
    }
   ],
   "source": [
    "# Reading the csv file into pandas dataframe\n",
    "dfC = pd.read_csv(\"Project_Data/Data-Collisions.csv\")\n",
    "print(\"csv file successfully read in dataframe\")\n",
    "dfC.head() # display the first 5 rows of dataframe"
   ]
  },
  {
   "cell_type": "code",
   "execution_count": 3,
   "metadata": {
    "tags": []
   },
   "outputs": [
    {
     "output_type": "stream",
     "name": "stdout",
     "text": "<class 'pandas.core.frame.DataFrame'>\nRangeIndex: 194673 entries, 0 to 194672\nData columns (total 38 columns):\n #   Column          Non-Null Count   Dtype  \n---  ------          --------------   -----  \n 0   SEVERITYCODE    194673 non-null  int64  \n 1   X               189339 non-null  float64\n 2   Y               189339 non-null  float64\n 3   OBJECTID        194673 non-null  int64  \n 4   INCKEY          194673 non-null  int64  \n 5   COLDETKEY       194673 non-null  int64  \n 6   REPORTNO        194673 non-null  object \n 7   STATUS          194673 non-null  object \n 8   ADDRTYPE        192747 non-null  object \n 9   INTKEY          65070 non-null   float64\n 10  LOCATION        191996 non-null  object \n 11  EXCEPTRSNCODE   84811 non-null   object \n 12  EXCEPTRSNDESC   5638 non-null    object \n 13  SEVERITYCODE.1  194673 non-null  int64  \n 14  SEVERITYDESC    194673 non-null  object \n 15  COLLISIONTYPE   189769 non-null  object \n 16  PERSONCOUNT     194673 non-null  int64  \n 17  PEDCOUNT        194673 non-null  int64  \n 18  PEDCYLCOUNT     194673 non-null  int64  \n 19  VEHCOUNT        194673 non-null  int64  \n 20  INCDATE         194673 non-null  object \n 21  INCDTTM         194673 non-null  object \n 22  JUNCTIONTYPE    188344 non-null  object \n 23  SDOT_COLCODE    194673 non-null  int64  \n 24  SDOT_COLDESC    194673 non-null  object \n 25  INATTENTIONIND  29805 non-null   object \n 26  UNDERINFL       189789 non-null  object \n 27  WEATHER         189592 non-null  object \n 28  ROADCOND        189661 non-null  object \n 29  LIGHTCOND       189503 non-null  object \n 30  PEDROWNOTGRNT   4667 non-null    object \n 31  SDOTCOLNUM      114936 non-null  float64\n 32  SPEEDING        9333 non-null    object \n 33  ST_COLCODE      194655 non-null  object \n 34  ST_COLDESC      189769 non-null  object \n 35  SEGLANEKEY      194673 non-null  int64  \n 36  CROSSWALKKEY    194673 non-null  int64  \n 37  HITPARKEDCAR    194673 non-null  object \ndtypes: float64(4), int64(12), object(22)\nmemory usage: 56.4+ MB\n"
    }
   ],
   "source": [
    "# Seing the dataset, SeverityCode is our target or dependent variable\n",
    "# the missing values and empty cells of the dataframe have been replaced with nan values\n",
    "# let us check the Datatype and non-null count of each feature\n",
    "dfC.info()"
   ]
  },
  {
   "cell_type": "code",
   "execution_count": 4,
   "metadata": {},
   "outputs": [
    {
     "output_type": "execute_result",
     "data": {
      "text/plain": "SEVERITYCODE           0\nX                   5334\nY                   5334\nOBJECTID               0\nINCKEY                 0\nCOLDETKEY              0\nREPORTNO               0\nSTATUS                 0\nADDRTYPE            1926\nINTKEY            129603\nLOCATION            2677\nEXCEPTRSNCODE     109862\nEXCEPTRSNDESC     189035\nSEVERITYCODE.1         0\nSEVERITYDESC           0\nCOLLISIONTYPE       4904\nPERSONCOUNT            0\nPEDCOUNT               0\nPEDCYLCOUNT            0\nVEHCOUNT               0\nINCDATE                0\nINCDTTM                0\nJUNCTIONTYPE        6329\nSDOT_COLCODE           0\nSDOT_COLDESC           0\nINATTENTIONIND    164868\nUNDERINFL           4884\nWEATHER             5081\nROADCOND            5012\nLIGHTCOND           5170\nPEDROWNOTGRNT     190006\nSDOTCOLNUM         79737\nSPEEDING          185340\nST_COLCODE            18\nST_COLDESC          4904\nSEGLANEKEY             0\nCROSSWALKKEY           0\nHITPARKEDCAR           0\ndtype: int64"
     },
     "metadata": {},
     "execution_count": 4
    }
   ],
   "source": [
    "# we can also count the nan or missing values of each feature\n",
    "dfC.isnull().sum()"
   ]
  },
  {
   "cell_type": "code",
   "execution_count": 5,
   "metadata": {},
   "outputs": [
    {
     "output_type": "execute_result",
     "data": {
      "text/plain": "array(['SEVERITYCODE', 'X', 'Y', 'OBJECTID', 'INCKEY', 'COLDETKEY',\n       'REPORTNO', 'STATUS', 'ADDRTYPE', 'INTKEY', 'LOCATION',\n       'EXCEPTRSNCODE', 'EXCEPTRSNDESC', 'SEVERITYCODE.1', 'SEVERITYDESC',\n       'COLLISIONTYPE', 'PERSONCOUNT', 'PEDCOUNT', 'PEDCYLCOUNT',\n       'VEHCOUNT', 'INCDATE', 'INCDTTM', 'JUNCTIONTYPE', 'SDOT_COLCODE',\n       'SDOT_COLDESC', 'INATTENTIONIND', 'UNDERINFL', 'WEATHER',\n       'ROADCOND', 'LIGHTCOND', 'PEDROWNOTGRNT', 'SDOTCOLNUM', 'SPEEDING',\n       'ST_COLCODE', 'ST_COLDESC', 'SEGLANEKEY', 'CROSSWALKKEY',\n       'HITPARKEDCAR'], dtype=object)"
     },
     "metadata": {},
     "execution_count": 5
    }
   ],
   "source": [
    "# list out all the names of the features (or columns)\n",
    "dfC.columns.values"
   ]
  },
  {
   "source": [
    "Now on analysing the dataset and its features we can drop the following columns from our dataframe <br>\n",
    "1) feature 'SEVERITYCODE.1' - since its the duplicate feature <br>\n",
    "2) features 'INTKEY', 'EXCEPTRSNCODE', 'EXCEPTRSNDESC', 'INATTENTIONIND', 'PEDROWNOTGRNT', 'SDOTCOLNUM' - Since most of the entries in these columns are empty which cannot be replaced with any other value <br>\n",
    "3) feature 'SPEEDING' - although speeding causes accident but in our case 95% of the entries are nan and also it is not required as per our problem statement <br>\n",
    "4) features 'X', 'Y', 'OBJECTID', 'INCKEY', 'COLDETKEY', 'REPORTNO', 'STATUS', 'ADDRTYPE', 'LOCATION', 'UNDERINFL', 'SEGLANEKEY', 'CROSSWALKKEY', 'HITPARKEDCAR' - these additional features can be safely dropped as they are not reuired as per our problem statement <br>\n",
    "5) features 'PERSONCOUNT', 'PEDCOUNT', 'PEDCYLCOUNT', 'INCDATE', 'INCDTTM', 'JUNCTIONTYPE' - these features can also be safely dropped\n"
   ],
   "cell_type": "markdown",
   "metadata": {}
  },
  {
   "cell_type": "code",
   "execution_count": 6,
   "metadata": {},
   "outputs": [
    {
     "output_type": "execute_result",
     "data": {
      "text/plain": "(194673, 11)"
     },
     "metadata": {},
     "execution_count": 6
    }
   ],
   "source": [
    "drop_cols = ['SEVERITYCODE.1', 'INTKEY', 'EXCEPTRSNCODE', 'EXCEPTRSNDESC', 'INATTENTIONIND', 'PEDROWNOTGRNT', 'SDOTCOLNUM', 'SPEEDING', 'X', 'Y', 'OBJECTID', 'INCKEY', 'COLDETKEY', 'REPORTNO', 'STATUS', 'ADDRTYPE', 'LOCATION', 'UNDERINFL', 'SEGLANEKEY', 'CROSSWALKKEY', 'HITPARKEDCAR', 'PERSONCOUNT', 'PEDCOUNT', 'PEDCYLCOUNT', 'INCDATE', 'INCDTTM', 'JUNCTIONTYPE']\n",
    "dfC.drop(drop_cols, axis=1, inplace=True)\n",
    "dfC.shape"
   ]
  },
  {
   "cell_type": "code",
   "execution_count": 7,
   "metadata": {
    "tags": []
   },
   "outputs": [
    {
     "output_type": "stream",
     "name": "stdout",
     "text": "<class 'pandas.core.frame.DataFrame'>\nRangeIndex: 194673 entries, 0 to 194672\nData columns (total 11 columns):\n #   Column         Non-Null Count   Dtype \n---  ------         --------------   ----- \n 0   SEVERITYCODE   194673 non-null  int64 \n 1   SEVERITYDESC   194673 non-null  object\n 2   COLLISIONTYPE  189769 non-null  object\n 3   VEHCOUNT       194673 non-null  int64 \n 4   SDOT_COLCODE   194673 non-null  int64 \n 5   SDOT_COLDESC   194673 non-null  object\n 6   WEATHER        189592 non-null  object\n 7   ROADCOND       189661 non-null  object\n 8   LIGHTCOND      189503 non-null  object\n 9   ST_COLCODE     194655 non-null  object\n 10  ST_COLDESC     189769 non-null  object\ndtypes: int64(3), object(8)\nmemory usage: 16.3+ MB\n"
    }
   ],
   "source": [
    "dfC.info()"
   ]
  },
  {
   "source": [
    "SO after the first initial cleaning process we have reduced the features from 37 to only 11 which we will be using for model prediction. <br>\n",
    "The Final Dataset consists of the following features:- <br>\n",
    "1) SEVERITYCODE -INT- Code that corresponds to the severity of the collision<br>\n",
    "2) SEVERITYDESC -TEXT- Detailed description of the severity of the collision<br>\n",
    "3) COLLISIONTYPE -TEXT- The type of Collision<br>\n",
    "4) VEHCOUNT -INT- The number of vehicles involved in the collision<br>\n",
    "5) SDOT_COLCODE -INT- A code given to the collision by SDOT<br>\n",
    "6) SDOT_COLDESC -TEXT- A description of the collision corresponding to the collision code<br>\n",
    "7) WEATHER -TEXT- Description of the weather conditions during the time of the collision<br>\n",
    "8) ROADCOND -TEXT- The condition of the road during the collision<br>\n",
    "9) LIGHTCOND -TEXT- The light conditions during the collision<br>\n",
    "10) ST_COLCODE -TEXT- A code provided by the state that describes the collision<br>\n",
    "11) ST_COLDESC -TEXT- A description that corresponds to the state’s coding designation<br>\n",
    "\n",
    "On further analysis you will find that there are still some missing values in the above features. Additionally there are some 'unknown' and 'other' values in the dataset. There are two ways to handle these values - <br>\n",
    "1) replace missing or unknown values with avg. value of the feature column but being categorical variable this is not feasible <br>\n",
    "2) replace them with feature value with max. frequency but that might create bias <br>\n",
    "So we will drop all these entries (rows) with missing and unknown values without affecting the dataset \n",
    " "
   ],
   "cell_type": "markdown",
   "metadata": {}
  },
  {
   "cell_type": "code",
   "execution_count": 8,
   "metadata": {
    "tags": []
   },
   "outputs": [
    {
     "output_type": "stream",
     "name": "stdout",
     "text": "(147462, 11)\n"
    },
    {
     "output_type": "execute_result",
     "data": {
      "text/plain": "   SEVERITYCODE                    SEVERITYDESC COLLISIONTYPE  VEHCOUNT  \\\n0             2                Injury Collision        Angles         2   \n1             1  Property Damage Only Collision     Sideswipe         2   \n2             1  Property Damage Only Collision    Parked Car         3   \n3             2                Injury Collision        Angles         2   \n4             1  Property Damage Only Collision        Angles         2   \n\n   SDOT_COLCODE                                       SDOT_COLDESC   WEATHER  \\\n0            11  MOTOR VEHICLE STRUCK MOTOR VEHICLE, FRONT END ...  Overcast   \n1            16  MOTOR VEHICLE STRUCK MOTOR VEHICLE, LEFT SIDE ...   Raining   \n2            14       MOTOR VEHICLE STRUCK MOTOR VEHICLE, REAR END  Overcast   \n3            11  MOTOR VEHICLE STRUCK MOTOR VEHICLE, FRONT END ...   Raining   \n4            11  MOTOR VEHICLE STRUCK MOTOR VEHICLE, FRONT END ...     Clear   \n\n  ROADCOND                LIGHTCOND ST_COLCODE  \\\n0      Wet                 Daylight         10   \n1      Wet  Dark - Street Lights On         11   \n2      Dry                 Daylight         32   \n3      Wet                 Daylight         10   \n4      Dry                 Daylight         10   \n\n                                          ST_COLDESC  \n0                                  Entering at angle  \n1  From same direction - both going straight - bo...  \n2                             One parked--one moving  \n3                                  Entering at angle  \n4                                  Entering at angle  ",
      "text/html": "<div>\n<style scoped>\n    .dataframe tbody tr th:only-of-type {\n        vertical-align: middle;\n    }\n\n    .dataframe tbody tr th {\n        vertical-align: top;\n    }\n\n    .dataframe thead th {\n        text-align: right;\n    }\n</style>\n<table border=\"1\" class=\"dataframe\">\n  <thead>\n    <tr style=\"text-align: right;\">\n      <th></th>\n      <th>SEVERITYCODE</th>\n      <th>SEVERITYDESC</th>\n      <th>COLLISIONTYPE</th>\n      <th>VEHCOUNT</th>\n      <th>SDOT_COLCODE</th>\n      <th>SDOT_COLDESC</th>\n      <th>WEATHER</th>\n      <th>ROADCOND</th>\n      <th>LIGHTCOND</th>\n      <th>ST_COLCODE</th>\n      <th>ST_COLDESC</th>\n    </tr>\n  </thead>\n  <tbody>\n    <tr>\n      <th>0</th>\n      <td>2</td>\n      <td>Injury Collision</td>\n      <td>Angles</td>\n      <td>2</td>\n      <td>11</td>\n      <td>MOTOR VEHICLE STRUCK MOTOR VEHICLE, FRONT END ...</td>\n      <td>Overcast</td>\n      <td>Wet</td>\n      <td>Daylight</td>\n      <td>10</td>\n      <td>Entering at angle</td>\n    </tr>\n    <tr>\n      <th>1</th>\n      <td>1</td>\n      <td>Property Damage Only Collision</td>\n      <td>Sideswipe</td>\n      <td>2</td>\n      <td>16</td>\n      <td>MOTOR VEHICLE STRUCK MOTOR VEHICLE, LEFT SIDE ...</td>\n      <td>Raining</td>\n      <td>Wet</td>\n      <td>Dark - Street Lights On</td>\n      <td>11</td>\n      <td>From same direction - both going straight - bo...</td>\n    </tr>\n    <tr>\n      <th>2</th>\n      <td>1</td>\n      <td>Property Damage Only Collision</td>\n      <td>Parked Car</td>\n      <td>3</td>\n      <td>14</td>\n      <td>MOTOR VEHICLE STRUCK MOTOR VEHICLE, REAR END</td>\n      <td>Overcast</td>\n      <td>Dry</td>\n      <td>Daylight</td>\n      <td>32</td>\n      <td>One parked--one moving</td>\n    </tr>\n    <tr>\n      <th>3</th>\n      <td>2</td>\n      <td>Injury Collision</td>\n      <td>Angles</td>\n      <td>2</td>\n      <td>11</td>\n      <td>MOTOR VEHICLE STRUCK MOTOR VEHICLE, FRONT END ...</td>\n      <td>Raining</td>\n      <td>Wet</td>\n      <td>Daylight</td>\n      <td>10</td>\n      <td>Entering at angle</td>\n    </tr>\n    <tr>\n      <th>4</th>\n      <td>1</td>\n      <td>Property Damage Only Collision</td>\n      <td>Angles</td>\n      <td>2</td>\n      <td>11</td>\n      <td>MOTOR VEHICLE STRUCK MOTOR VEHICLE, FRONT END ...</td>\n      <td>Clear</td>\n      <td>Dry</td>\n      <td>Daylight</td>\n      <td>10</td>\n      <td>Entering at angle</td>\n    </tr>\n  </tbody>\n</table>\n</div>"
     },
     "metadata": {},
     "execution_count": 8
    }
   ],
   "source": [
    "dfC.replace(['Unknown', 'Other'], np.nan, inplace=True)\n",
    "dfC.dropna(axis=0, inplace=True)\n",
    "dfC.reset_index(drop=True, inplace=True)\n",
    "print(dfC.shape)\n",
    "dfC.head()"
   ]
  },
  {
   "cell_type": "code",
   "execution_count": 9,
   "metadata": {},
   "outputs": [],
   "source": [
    "# Now lets save the cleaned data to our project folder. We will carryout the modelling work on this cleaned dataset.\n",
    "dfC.to_csv(\"Project_Data/Cleaned_Data.csv\")"
   ]
  },
  {
   "cell_type": "code",
   "execution_count": 10,
   "metadata": {
    "tags": []
   },
   "outputs": [
    {
     "output_type": "execute_result",
     "data": {
      "text/plain": "1    97734\n2    49728\nName: SEVERITYCODE, dtype: int64"
     },
     "metadata": {},
     "execution_count": 10
    }
   ],
   "source": [
    "dfC.SEVERITYCODE.value_counts()"
   ]
  },
  {
   "source": [
    "As we all know we need to predict the Accident Severity, so SeverityCode is our target variable or dependent variable and all others are independent variable. This is an unbalance dataset as the frequency of different severity codes are not equal. We need to balance this dataset before doing the modelling. "
   ],
   "cell_type": "markdown",
   "metadata": {}
  }
 ]
}