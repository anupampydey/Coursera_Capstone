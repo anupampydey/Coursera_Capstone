{
 "cells": [
  {
   "source": [
    "## Prediction of Car Accident Severity in Seattle based on SDOT Traffic Collisions Data"
   ],
   "cell_type": "markdown",
   "metadata": {}
  },
  {
   "source": [
    "<div style=\"margin-top: 20px\">\n",
    "         <img src=\"Project_Data/seattle_traffic.jpg\" alt=\"Typical Seattle Traffic Picture\" width=\"600\" height=\"400\" align=\"center\">\n",
    "</div>\n",
    "<h3 align=center>Typical Seattle Traffic</h2>"
   ],
   "cell_type": "markdown",
   "metadata": {}
  },
  {
   "source": [
    "## Introduction  \n",
    "\n",
    "The **Seattle Department of Transportation (SDOT)** develops, maintains, and operates a transportation system that promotes the mobility of people and goods, and enhances the quality of life, environment, and economy of Seattle. Seattle, one of the most populous city of King County is located in the US state of Washington. SDOT was created in June 2002, with a mission to deliver a transportation system that provides safe and affordable access to places and opportunities. One of the important goal of SDOT is to create safe transportation environments and eliminate serious and fatal crashes in Seattle.\n",
    "\n",
    "SDOT handles an average daily traffic volume of more than 1 Million with more than 50% of the traffic volume comes form commuter's own car(source: SDOT 2018 Traffic Report). With the increase in population and traffic volume the chances of accidents also increases and if the weather conditions are adverse then the chances of accident are even higher. With the above information in hand we can now formulate our problem statement. \n",
    "\n",
    "**Business Problem:** Our aim is to prepare a model that will predict the severity of car accidents in the city of Seattle for a set of conditions. In other words, given the weather and the road conditions what is the possibility of a commuter getting into a car accident and how severe it would be. The model will be based  on the SDOT traffic collisions data. The target audience for our model are Seattle's car commuters who uses the SDOT system for commuting. With accident predictions in hand, the commuters will be benefited the most as they can be cautious while driving or change their travel plans or alter the routes based on the severity of accident. The predictions will also help in reduction of accidents/ collisions in Seattle.\n"
   ],
   "cell_type": "markdown",
   "metadata": {}
  },
  {
   "cell_type": "code",
   "execution_count": null,
   "metadata": {},
   "outputs": [],
   "source": []
  }
 ],
 "metadata": {
  "kernelspec": {
   "display_name": "Python 3.8.3 64-bit",
   "language": "python",
   "name": "python_defaultSpec_1600493480386"
  },
  "language_info": {
   "codemirror_mode": {
    "name": "ipython",
    "version": 3
   },
   "file_extension": ".py",
   "mimetype": "text/x-python",
   "name": "python",
   "nbconvert_exporter": "python",
   "pygments_lexer": "ipython3",
   "version": "3.8.3-final"
  }
 },
 "nbformat": 4,
 "nbformat_minor": 4
}